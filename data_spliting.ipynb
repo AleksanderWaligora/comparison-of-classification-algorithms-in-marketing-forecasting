{
 "cells": [
  {
   "cell_type": "code",
   "execution_count": 16,
   "id": "966a418b",
   "metadata": {},
   "outputs": [],
   "source": [
    "from sklearn.model_selection import train_test_split\n",
    "import pandas as pd"
   ]
  },
  {
   "cell_type": "markdown",
   "id": "d9eae2ec",
   "metadata": {},
   "source": [
    "# TRAIN TEST VALIDATION SPLIT"
   ]
  },
  {
   "cell_type": "code",
   "execution_count": 17,
   "id": "727d6ca1",
   "metadata": {},
   "outputs": [],
   "source": [
    "df = pd.read_csv(\"data/clean/cleaned_data.csv\",sep=\";\",index_col=0)\n",
    "\n",
    "X = df.drop(columns=\"y\")\n",
    "y = df.y\n",
    "\n",
    "X_train, X_test, y_train, y_test = train_test_split(X, y, test_size=0.2, random_state=42)\n",
    "X_train, X_valid, y_train, y_valid = train_test_split(X_train, y_train, test_size=0.1, random_state=42)\n",
    "\n"
   ]
  },
  {
   "cell_type": "code",
   "execution_count": 18,
   "id": "6e8b63ec",
   "metadata": {},
   "outputs": [],
   "source": [
    "df_train = pd.concat([X_train,y_train],axis=1)\n",
    "df_train.to_csv(\"data/splitted/train_data.csv\",sep=\";\")"
   ]
  },
  {
   "cell_type": "code",
   "execution_count": 19,
   "id": "3481c42e",
   "metadata": {},
   "outputs": [],
   "source": [
    "df_test = pd.concat([X_test,y_test],axis=1)\n",
    "df_test.to_csv(\"data/splitted/test_data.csv\",sep=\";\")"
   ]
  },
  {
   "cell_type": "code",
   "execution_count": null,
   "id": "63dd9264",
   "metadata": {},
   "outputs": [],
   "source": [
    "df_valid = pd.concat([X_valid,y_valid],axis=1)\n",
    "df_valid.to_csv(\"data/split/valid_data.csv\",sep=\";\")"
   ]
  }
 ],
 "metadata": {
  "kernelspec": {
   "display_name": "Python 3",
   "language": "python",
   "name": "python3"
  },
  "language_info": {
   "codemirror_mode": {
    "name": "ipython",
    "version": 3
   },
   "file_extension": ".py",
   "mimetype": "text/x-python",
   "name": "python",
   "nbconvert_exporter": "python",
   "pygments_lexer": "ipython3",
   "version": "3.12.0"
  }
 },
 "nbformat": 4,
 "nbformat_minor": 5
}

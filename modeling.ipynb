{
 "cells": [
  {
   "cell_type": "code",
   "execution_count": null,
   "metadata": {},
   "outputs": [],
   "source": [
    "import pandas as pd\n",
    "from sklearn.metrics import classification_report\n",
    "from sklearn.model_selection import GridSearchCV\n",
    "from sklearn.neighbors import KNeighborsClassifier\n",
    "from sklearn.naive_bayes import GaussianNB\n",
    "from sklearn.tree import DecisionTreeClassifier\n",
    "from sklearn.ensemble import RandomForestClassifier\n",
    "from sklearn.ensemble import RandomForestClassifier\n",
    "from sklearn.linear_model import LogisticRegression\n",
    "from sklearn.svm import SVC\n",
    "from helpers.modeling_helpers import save_model,model_training,save_training_time"
   ]
  },
  {
   "cell_type": "markdown",
   "metadata": {},
   "source": [
    "# TRAINING MODELS"
   ]
  },
  {
   "cell_type": "markdown",
   "metadata": {},
   "source": [
    "## LOADING DATA"
   ]
  },
  {
   "cell_type": "code",
   "execution_count": null,
   "metadata": {},
   "outputs": [],
   "source": [
    "df_train = pd.read_csv(\"data/split/train_data.csv\",sep=\";\",index_col=0)\n",
    "X_train = df_train.drop(columns=['y'])\n",
    "y_train = df_train[\"y\"]\n",
    "\n",
    "df_test = pd.read_csv(\"data/split/test_data.csv\",sep=\";\",index_col=0)\n",
    "X_test = df_test.drop(columns=['y'])\n",
    "y_test = df_test[\"y\"]\n",
    "\n",
    "df_valid = pd.read_csv(\"data/split/valid_data.csv\",sep=\";\",index_col=0)\n",
    "X_valid = df_valid.drop(columns=['y'])\n",
    "y_valid = df_valid[\"y\"]"
   ]
  },
  {
   "cell_type": "markdown",
   "metadata": {},
   "source": [
    "## LOGISTIC REGRESSION"
   ]
  },
  {
   "cell_type": "code",
   "execution_count": 3,
   "metadata": {},
   "outputs": [],
   "source": [
    "Cs = [0.0001,0.001,0.01,0.1,1,10]\n",
    "param_grid = {'C': Cs,}\n",
    "\n",
    "grid_lr = GridSearchCV(estimator = LogisticRegression(),param_grid=param_grid,scoring=\"accuracy\")\n",
    "grid_lr.fit(X_train,y_train)\n",
    "logistic_regression_model = LogisticRegression(C=grid_lr.best_params_['C'])"
   ]
  },
  {
   "cell_type": "code",
   "execution_count": null,
   "metadata": {},
   "outputs": [],
   "source": [
    "logistic_regression_model,time = model_training(logistic_regression_model,X_train,y_train)\n",
    "save_model(logistic_regression_model,\"logistic_regression_model\")\n",
    "save_training_time(\"logistic_regression_model\",str(time))\n"
   ]
  },
  {
   "cell_type": "markdown",
   "metadata": {},
   "source": [
    "## KNN"
   ]
  },
  {
   "cell_type": "code",
   "execution_count": null,
   "metadata": {},
   "outputs": [],
   "source": [
    "\n",
    "acc =[]\n",
    "ns=[x for x in range(1,50)]\n",
    "for n in ns:\n",
    "    knn = KNeighborsClassifier(n_neighbors=n)\n",
    "    knn.fit(X_train,y_train)\n",
    "    y_pred = knn.predict(X_valid)\n",
    "    acc.append(classification_report(y_valid,y_pred,output_dict=True)[\"accuracy\"])\n",
    "    \n",
    "knn_model = KNeighborsClassifier(n_neighbors=ns[acc.index(max(acc))])"
   ]
  },
  {
   "cell_type": "code",
   "execution_count": 6,
   "metadata": {},
   "outputs": [],
   "source": [
    "\n",
    "knn_model,time = model_training(knn_model,X_train,y_train)\n",
    "save_model(knn_model,\"knn_model\")\n",
    "save_training_time(\"knn_model\",str(time))"
   ]
  },
  {
   "cell_type": "markdown",
   "metadata": {},
   "source": [
    "## NAIVE BAYES"
   ]
  },
  {
   "cell_type": "code",
   "execution_count": null,
   "metadata": {},
   "outputs": [],
   "source": [
    "naive_bayes_model = GaussianNB()\n",
    "\n",
    "naive_bayes_model,time = model_training(naive_bayes_model,X_train,y_train)\n",
    "save_model(naive_bayes_model,\"naive_bayes_model\")\n",
    "save_training_time(\"naive_bayes_model\",str(time))"
   ]
  },
  {
   "cell_type": "markdown",
   "metadata": {},
   "source": [
    "## DECISION TREE"
   ]
  },
  {
   "cell_type": "code",
   "execution_count": 8,
   "metadata": {},
   "outputs": [
    {
     "name": "stdout",
     "output_type": "stream",
     "text": [
      "{'criterion': 'log_loss', 'max_depth': 60}\n"
     ]
    }
   ],
   "source": [
    "params={'criterion':['gini','entropy','log_loss'],'max_depth':[10,20,30,40,50,60]}\n",
    "decisionTree = DecisionTreeClassifier()\n",
    "grid_dt = GridSearchCV(estimator=decisionTree,param_grid=params,scoring=\"accuracy\")\n",
    "\n",
    "grid_dt.fit(X_train,y_train)\n",
    "print(grid_dt.best_params_)\n",
    "\n",
    "decision_tree_model = DecisionTreeClassifier(criterion=grid_dt.best_params_['criterion'],\n",
    "                            max_depth=grid_dt.best_params_['max_depth'])"
   ]
  },
  {
   "cell_type": "code",
   "execution_count": null,
   "metadata": {},
   "outputs": [],
   "source": [
    "decision_tree_model,time = model_training(decision_tree_model,X_train,y_train)\n",
    "save_model(decision_tree_model,\"decision_tree_model\")\n",
    "save_training_time(\"decision_tree_model\",str(time))"
   ]
  },
  {
   "cell_type": "markdown",
   "metadata": {},
   "source": [
    "## RANDOM FOREST"
   ]
  },
  {
   "cell_type": "code",
   "execution_count": 10,
   "metadata": {},
   "outputs": [
    {
     "name": "stdout",
     "output_type": "stream",
     "text": [
      "{'criterion': 'entropy', 'max_depth': 40, 'n_estimators': 100}\n"
     ]
    }
   ],
   "source": [
    "params={'n_estimators':[1,10,50,100],'criterion':['gini','entropy','log_loss'],'max_depth':[10,20,30,40,50,60]}\n",
    "randomForest = RandomForestClassifier()\n",
    "grid_random_forest = GridSearchCV(estimator=randomForest,param_grid=params,scoring=\"accuracy\")\n",
    "\n",
    "grid_random_forest.fit(X_train,y_train)\n",
    "print(grid_random_forest.best_params_)\n",
    "random_forest_model = RandomForestClassifier(criterion=grid_random_forest.best_params_['criterion'],\n",
    "                                    max_depth=grid_random_forest.best_params_['max_depth'],\n",
    "                                    n_estimators=grid_random_forest.best_params_['n_estimators'])"
   ]
  },
  {
   "cell_type": "code",
   "execution_count": null,
   "metadata": {},
   "outputs": [],
   "source": [
    "random_forest_model,time = model_training(random_forest_model,X_train,y_train)\n",
    "save_model(random_forest_model,\"random_forest_model\")\n",
    "save_training_time(\"random_forest_model\",str(time))"
   ]
  },
  {
   "cell_type": "markdown",
   "metadata": {},
   "source": [
    "## SVM"
   ]
  },
  {
   "cell_type": "code",
   "execution_count": 12,
   "metadata": {},
   "outputs": [
    {
     "name": "stdout",
     "output_type": "stream",
     "text": [
      "{'C': 10, 'kernel': 'rbf'}\n"
     ]
    }
   ],
   "source": [
    "params={'C':[0.01,0.1,1,10],'kernel':['poly','rbf','sigmoid','linear']}\n",
    "svc = SVC()\n",
    "grid_svc = GridSearchCV(estimator=svc,param_grid=params,scoring=\"accuracy\")\n",
    "\n",
    "grid_svc.fit(X_train,y_train)\n",
    "print(grid_svc.best_params_)\n",
    "\n",
    "svc_model=SVC(kernel=grid_svc.best_params_['kernel'],C=grid_svc.best_params_['C'])"
   ]
  },
  {
   "cell_type": "code",
   "execution_count": null,
   "metadata": {},
   "outputs": [],
   "source": [
    "svc_model,time = model_training(svc_model,X_train,y_train)\n",
    "save_model(svc_model,\"svc_model\")\n",
    "save_training_time(\"svc_model\",str(time))"
   ]
  }
 ],
 "metadata": {
  "kernelspec": {
   "display_name": "Python 3",
   "language": "python",
   "name": "python3"
  },
  "language_info": {
   "codemirror_mode": {
    "name": "ipython",
    "version": 3
   },
   "file_extension": ".py",
   "mimetype": "text/x-python",
   "name": "python",
   "nbconvert_exporter": "python",
   "pygments_lexer": "ipython3",
   "version": "3.12.0"
  }
 },
 "nbformat": 4,
 "nbformat_minor": 2
}
